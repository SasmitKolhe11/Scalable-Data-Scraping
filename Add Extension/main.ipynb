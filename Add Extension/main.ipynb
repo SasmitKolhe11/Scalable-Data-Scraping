{
 "cells": [
  {
   "cell_type": "code",
   "execution_count": 286,
   "id": "572f809c",
   "metadata": {},
   "outputs": [],
   "source": [
    "from selenium import webdriver\n",
    "from selenium.webdriver.chrome.options import Options as ChromeOptions"
   ]
  },
  {
   "cell_type": "code",
   "execution_count": 287,
   "id": "86537d30",
   "metadata": {},
   "outputs": [],
   "source": [
    "from pytube import YouTube\n",
    "from pytube import Channel\n",
    "from selenium import webdriver\n",
    "from selenium.webdriver.common.by import By\n",
    "import pandas as pd\n",
    "import json\n",
    "import csv\n",
    "import time\n",
    "import os\n",
    "import random"
   ]
  },
  {
   "cell_type": "code",
   "execution_count": 288,
   "id": "1181f229",
   "metadata": {},
   "outputs": [
    {
     "name": "stderr",
     "output_type": "stream",
     "text": [
      "C:\\Users\\SASMIT\\AppData\\Local\\Temp\\ipykernel_20440\\3747760288.py:4: DeprecationWarning: executable_path has been deprecated, please pass in a Service object\n",
      "  driver=webdriver.Chrome('./chromedriver',options=chrome_options)\n"
     ]
    }
   ],
   "source": [
    "chrome_options=ChromeOptions()\n",
    "chrome_options.add_extension('Buster_captcha_Solver.crx')\n",
    "\n",
    "driver=webdriver.Chrome('./chromedriver',options=chrome_options)\n",
    "driver.get('https://www.google.com/recaptcha/api2/demo')"
   ]
  },
  {
   "cell_type": "code",
   "execution_count": 291,
   "id": "b78ba75f",
   "metadata": {
    "scrolled": true
   },
   "outputs": [],
   "source": [
    "def check_element(selector,action='click'):\n",
    "        global ele\n",
    "        ele = False\n",
    "        for x in ['@id=','@name=','@for=','@class=','text()=']:\n",
    "            try:\n",
    "                print(f\"\\033[90m [*] //*[{x}'{selector}'] \\033[0m\")\n",
    "                if action == 'click': \n",
    "                    driver.find_element(By.XPATH,f\"//*[{x}'{selector}']\")\n",
    "                    print('\\033[32m [+] Click: \\033[0m', selector)\n",
    "                elif action == 'key':\n",
    "                    driver.find_element(By.XPATH,f\"//*[{x}'{selector}']\")\n",
    "                    print('\\033[32m [+] Return: \\033[0m', selector)\n",
    "                ele = True\n",
    "                break\n",
    "            except: continue \n",
    "            \n",
    "def find_elem(selector,action='click',file=''):\n",
    "        global element,src\n",
    "        element = False\n",
    "        for x in ['@id=','@name=','@for=','@class=','text()=']:\n",
    "            try:\n",
    "                print(f\"\\033[90m [*] //*[{x}'{selector}'] \\033[0m\")\n",
    "                if action == 'click': \n",
    "                    driver.find_element(By.XPATH,f\"//*[{x}'{selector}']\").click()\n",
    "                    print('\\033[32m [+] Click: \\033[0m', selector)\n",
    "                elif action == 'key':\n",
    "                    driver.find_element(By.XPATH,f\"//*[{x}'{selector}']\").send_keys(file,Keys.RETURN)\n",
    "                    print('\\033[32m [+] Return: \\033[0m', selector)\n",
    "                elif action == 'attrib':\n",
    "                    src = driver.find_element(By.XPATH,f\"//*[{x}'{selector}']\").get_attribute(file)\n",
    "                    print('\\033[32m [+] Get Attribute: \\033[0m', selector, file)\n",
    "                element = True\n",
    "                break\n",
    "            except: continue \n",
    "\n",
    "\n",
    "def frame_select(selector, action='click', file=''):\n",
    "\n",
    "    find_elem(selector,action,file)\n",
    "\n",
    "    if not element:\n",
    "        for frame in driver.find_elements(By.TAG_NAME,'iframe'):\n",
    "            driver.switch_to.default_content()\n",
    "            driver.switch_to.frame(frame)\n",
    "            print('[*] Trying Next Frame:', selector)\n",
    "            \n",
    "            find_elem(selector,action,file)\n",
    "\n",
    "            driver.switch_to.default_content()\n",
    "            if element: break\n",
    "\n",
    "def solve_recaptcha():\n",
    "    try:\n",
    "        frame_select('recaptcha-anchor')\n",
    "        time.sleep(2)\n",
    "        frame_select('button-holder help-button-holder')\n",
    "        time.sleep(2)\n",
    "        frame_select('recaptcha-demo-submit')\n",
    "        time.sleep(2)\n",
    "    except:\n",
    "        print('failed')\n",
    "    \n"
   ]
  },
  {
   "cell_type": "code",
   "execution_count": 292,
   "id": "e43959f1",
   "metadata": {},
   "outputs": [
    {
     "name": "stdout",
     "output_type": "stream",
     "text": [
      "\u001b[90m [*] //*[@id='recaptcha-anchor'] \u001b[0m\n",
      "\u001b[90m [*] //*[@name='recaptcha-anchor'] \u001b[0m\n",
      "\u001b[90m [*] //*[@for='recaptcha-anchor'] \u001b[0m\n",
      "\u001b[90m [*] //*[@class='recaptcha-anchor'] \u001b[0m\n",
      "\u001b[90m [*] //*[text()='recaptcha-anchor'] \u001b[0m\n",
      "[*] Trying Next Frame: recaptcha-anchor\n",
      "\u001b[90m [*] //*[@id='recaptcha-anchor'] \u001b[0m\n",
      "\u001b[32m [+] Click: \u001b[0m recaptcha-anchor\n",
      "\u001b[90m [*] //*[@id='button-holder help-button-holder'] \u001b[0m\n",
      "\u001b[90m [*] //*[@name='button-holder help-button-holder'] \u001b[0m\n",
      "\u001b[90m [*] //*[@for='button-holder help-button-holder'] \u001b[0m\n",
      "\u001b[90m [*] //*[@class='button-holder help-button-holder'] \u001b[0m\n",
      "\u001b[90m [*] //*[text()='button-holder help-button-holder'] \u001b[0m\n",
      "[*] Trying Next Frame: button-holder help-button-holder\n",
      "\u001b[90m [*] //*[@id='button-holder help-button-holder'] \u001b[0m\n",
      "\u001b[90m [*] //*[@name='button-holder help-button-holder'] \u001b[0m\n",
      "\u001b[90m [*] //*[@for='button-holder help-button-holder'] \u001b[0m\n",
      "\u001b[90m [*] //*[@class='button-holder help-button-holder'] \u001b[0m\n",
      "\u001b[90m [*] //*[text()='button-holder help-button-holder'] \u001b[0m\n",
      "[*] Trying Next Frame: button-holder help-button-holder\n",
      "\u001b[90m [*] //*[@id='button-holder help-button-holder'] \u001b[0m\n",
      "\u001b[90m [*] //*[@name='button-holder help-button-holder'] \u001b[0m\n",
      "\u001b[90m [*] //*[@for='button-holder help-button-holder'] \u001b[0m\n",
      "\u001b[90m [*] //*[@class='button-holder help-button-holder'] \u001b[0m\n",
      "\u001b[90m [*] //*[text()='button-holder help-button-holder'] \u001b[0m\n",
      "[*] Trying Next Frame: button-holder help-button-holder\n",
      "\u001b[90m [*] //*[@id='button-holder help-button-holder'] \u001b[0m\n",
      "\u001b[90m [*] //*[@name='button-holder help-button-holder'] \u001b[0m\n",
      "\u001b[90m [*] //*[@for='button-holder help-button-holder'] \u001b[0m\n",
      "\u001b[90m [*] //*[@class='button-holder help-button-holder'] \u001b[0m\n",
      "\u001b[32m [+] Click: \u001b[0m button-holder help-button-holder\n",
      "\u001b[90m [*] //*[@id='recaptcha-demo-submit'] \u001b[0m\n",
      "\u001b[90m [*] //*[@name='recaptcha-demo-submit'] \u001b[0m\n",
      "\u001b[90m [*] //*[@for='recaptcha-demo-submit'] \u001b[0m\n",
      "\u001b[90m [*] //*[@class='recaptcha-demo-submit'] \u001b[0m\n",
      "\u001b[90m [*] //*[text()='recaptcha-demo-submit'] \u001b[0m\n",
      "[*] Trying Next Frame: recaptcha-demo-submit\n",
      "\u001b[90m [*] //*[@id='recaptcha-demo-submit'] \u001b[0m\n",
      "\u001b[90m [*] //*[@name='recaptcha-demo-submit'] \u001b[0m\n",
      "\u001b[90m [*] //*[@for='recaptcha-demo-submit'] \u001b[0m\n",
      "\u001b[90m [*] //*[@class='recaptcha-demo-submit'] \u001b[0m\n",
      "\u001b[90m [*] //*[text()='recaptcha-demo-submit'] \u001b[0m\n",
      "[*] Trying Next Frame: recaptcha-demo-submit\n",
      "\u001b[90m [*] //*[@id='recaptcha-demo-submit'] \u001b[0m\n",
      "\u001b[90m [*] //*[@name='recaptcha-demo-submit'] \u001b[0m\n",
      "\u001b[90m [*] //*[@for='recaptcha-demo-submit'] \u001b[0m\n",
      "\u001b[90m [*] //*[@class='recaptcha-demo-submit'] \u001b[0m\n",
      "\u001b[90m [*] //*[text()='recaptcha-demo-submit'] \u001b[0m\n",
      "[*] Trying Next Frame: recaptcha-demo-submit\n",
      "\u001b[90m [*] //*[@id='recaptcha-demo-submit'] \u001b[0m\n",
      "\u001b[90m [*] //*[@name='recaptcha-demo-submit'] \u001b[0m\n",
      "\u001b[90m [*] //*[@for='recaptcha-demo-submit'] \u001b[0m\n",
      "\u001b[90m [*] //*[@class='recaptcha-demo-submit'] \u001b[0m\n",
      "\u001b[90m [*] //*[text()='recaptcha-demo-submit'] \u001b[0m\n"
     ]
    }
   ],
   "source": [
    "solve_recaptcha()"
   ]
  },
  {
   "cell_type": "code",
   "execution_count": 258,
   "id": "fc88018c",
   "metadata": {},
   "outputs": [
    {
     "name": "stdout",
     "output_type": "stream",
     "text": [
      "\u001b[90m [*] //*[@id='recaptcha-anchor'] \u001b[0m\n",
      "\u001b[90m [*] //*[@name='recaptcha-anchor'] \u001b[0m\n",
      "\u001b[90m [*] //*[@for='recaptcha-anchor'] \u001b[0m\n",
      "\u001b[90m [*] //*[@class='recaptcha-anchor'] \u001b[0m\n",
      "\u001b[90m [*] //*[text()='recaptcha-anchor'] \u001b[0m\n",
      "[*] Trying Next Frame: recaptcha-anchor\n",
      "\u001b[90m [*] //*[@id='recaptcha-anchor'] \u001b[0m\n",
      "\u001b[32m [+] Click: \u001b[0m recaptcha-anchor\n"
     ]
    }
   ],
   "source": [
    "frame_select('recaptcha-anchor')"
   ]
  },
  {
   "cell_type": "code",
   "execution_count": 259,
   "id": "1666e6e8",
   "metadata": {
    "scrolled": false
   },
   "outputs": [
    {
     "name": "stdout",
     "output_type": "stream",
     "text": [
      "\u001b[90m [*] //*[@id='button-holder help-button-holder'] \u001b[0m\n",
      "\u001b[90m [*] //*[@name='button-holder help-button-holder'] \u001b[0m\n",
      "\u001b[90m [*] //*[@for='button-holder help-button-holder'] \u001b[0m\n",
      "\u001b[90m [*] //*[@class='button-holder help-button-holder'] \u001b[0m\n",
      "\u001b[90m [*] //*[text()='button-holder help-button-holder'] \u001b[0m\n",
      "[*] Trying Next Frame: button-holder help-button-holder\n",
      "\u001b[90m [*] //*[@id='button-holder help-button-holder'] \u001b[0m\n",
      "\u001b[90m [*] //*[@name='button-holder help-button-holder'] \u001b[0m\n",
      "\u001b[90m [*] //*[@for='button-holder help-button-holder'] \u001b[0m\n",
      "\u001b[90m [*] //*[@class='button-holder help-button-holder'] \u001b[0m\n",
      "\u001b[90m [*] //*[text()='button-holder help-button-holder'] \u001b[0m\n",
      "[*] Trying Next Frame: button-holder help-button-holder\n",
      "\u001b[90m [*] //*[@id='button-holder help-button-holder'] \u001b[0m\n",
      "\u001b[90m [*] //*[@name='button-holder help-button-holder'] \u001b[0m\n",
      "\u001b[90m [*] //*[@for='button-holder help-button-holder'] \u001b[0m\n",
      "\u001b[90m [*] //*[@class='button-holder help-button-holder'] \u001b[0m\n",
      "\u001b[90m [*] //*[text()='button-holder help-button-holder'] \u001b[0m\n",
      "[*] Trying Next Frame: button-holder help-button-holder\n",
      "\u001b[90m [*] //*[@id='button-holder help-button-holder'] \u001b[0m\n",
      "\u001b[90m [*] //*[@name='button-holder help-button-holder'] \u001b[0m\n",
      "\u001b[90m [*] //*[@for='button-holder help-button-holder'] \u001b[0m\n",
      "\u001b[90m [*] //*[@class='button-holder help-button-holder'] \u001b[0m\n",
      "\u001b[32m [+] Click: \u001b[0m button-holder help-button-holder\n"
     ]
    }
   ],
   "source": [
    "frame_select('button-holder help-button-holder')"
   ]
  },
  {
   "cell_type": "code",
   "execution_count": 222,
   "id": "74819f48",
   "metadata": {},
   "outputs": [
    {
     "name": "stdout",
     "output_type": "stream",
     "text": [
      "\u001b[90m [*] //*[@id='Try again later'] \u001b[0m\n",
      "\u001b[90m [*] //*[@name='Try again later'] \u001b[0m\n",
      "\u001b[90m [*] //*[@for='Try again later'] \u001b[0m\n",
      "\u001b[90m [*] //*[@class='Try again later'] \u001b[0m\n",
      "\u001b[90m [*] //*[text()='Try again later'] \u001b[0m\n",
      "False\n"
     ]
    }
   ],
   "source": [
    "check_if_present=check_element('Try again later')\n",
    "print(ele)"
   ]
  },
  {
   "cell_type": "code",
   "execution_count": 257,
   "id": "247354d1",
   "metadata": {},
   "outputs": [
    {
     "name": "stdout",
     "output_type": "stream",
     "text": [
      "\u001b[90m [*] //*[@id='reset-button'] \u001b[0m\n",
      "\u001b[90m [*] //*[@name='reset-button'] \u001b[0m\n",
      "\u001b[90m [*] //*[@for='reset-button'] \u001b[0m\n",
      "\u001b[90m [*] //*[@class='reset-button'] \u001b[0m\n",
      "\u001b[90m [*] //*[text()='reset-button'] \u001b[0m\n",
      "[*] Trying Next Frame: reset-button\n",
      "\u001b[90m [*] //*[@id='reset-button'] \u001b[0m\n",
      "\u001b[90m [*] //*[@name='reset-button'] \u001b[0m\n",
      "\u001b[90m [*] //*[@for='reset-button'] \u001b[0m\n",
      "\u001b[90m [*] //*[@class='reset-button'] \u001b[0m\n",
      "\u001b[90m [*] //*[text()='reset-button'] \u001b[0m\n",
      "[*] Trying Next Frame: reset-button\n",
      "\u001b[90m [*] //*[@id='reset-button'] \u001b[0m\n",
      "\u001b[90m [*] //*[@name='reset-button'] \u001b[0m\n",
      "\u001b[90m [*] //*[@for='reset-button'] \u001b[0m\n",
      "\u001b[90m [*] //*[@class='reset-button'] \u001b[0m\n",
      "\u001b[90m [*] //*[text()='reset-button'] \u001b[0m\n",
      "[*] Trying Next Frame: reset-button\n",
      "\u001b[90m [*] //*[@id='reset-button'] \u001b[0m\n",
      "\u001b[32m [+] Click: \u001b[0m reset-button\n"
     ]
    }
   ],
   "source": [
    "reset=frame_select('reset-button')"
   ]
  },
  {
   "cell_type": "code",
   "execution_count": 243,
   "id": "4fb5a677",
   "metadata": {},
   "outputs": [
    {
     "name": "stdout",
     "output_type": "stream",
     "text": [
      "\u001b[90m [*] //*[@id='recaptcha-demo-submit'] \u001b[0m\n",
      "\u001b[32m [+] Click: \u001b[0m recaptcha-demo-submit\n"
     ]
    }
   ],
   "source": [
    "frame_select('recaptcha-demo-submit')"
   ]
  },
  {
   "cell_type": "code",
   "execution_count": 96,
   "id": "71207d93",
   "metadata": {
    "scrolled": true
   },
   "outputs": [
    {
     "name": "stdout",
     "output_type": "stream",
     "text": [
      "\u001b[90m [*] //*[@id='recaptcha-anchor'] \u001b[0m\n",
      "\u001b[90m [*] //*[@name='recaptcha-anchor'] \u001b[0m\n",
      "\u001b[90m [*] //*[@for='recaptcha-anchor'] \u001b[0m\n",
      "\u001b[90m [*] //*[@class='recaptcha-anchor'] \u001b[0m\n",
      "\u001b[90m [*] //*[text()='recaptcha-anchor'] \u001b[0m\n",
      "[*] Trying Next Frame: recaptcha-anchor\n",
      "\u001b[90m [*] //*[@id='recaptcha-anchor'] \u001b[0m\n",
      "\u001b[32m [+] Click: \u001b[0m recaptcha-anchor\n",
      "\u001b[90m [*] //*[@id='button-holder help-button-holder'] \u001b[0m\n",
      "\u001b[90m [*] //*[@name='button-holder help-button-holder'] \u001b[0m\n",
      "\u001b[90m [*] //*[@for='button-holder help-button-holder'] \u001b[0m\n",
      "\u001b[90m [*] //*[@class='button-holder help-button-holder'] \u001b[0m\n",
      "\u001b[90m [*] //*[text()='button-holder help-button-holder'] \u001b[0m\n",
      "[*] Trying Next Frame: button-holder help-button-holder\n",
      "\u001b[90m [*] //*[@id='button-holder help-button-holder'] \u001b[0m\n",
      "\u001b[90m [*] //*[@name='button-holder help-button-holder'] \u001b[0m\n",
      "\u001b[90m [*] //*[@for='button-holder help-button-holder'] \u001b[0m\n",
      "\u001b[90m [*] //*[@class='button-holder help-button-holder'] \u001b[0m\n",
      "\u001b[90m [*] //*[text()='button-holder help-button-holder'] \u001b[0m\n",
      "[*] Trying Next Frame: button-holder help-button-holder\n",
      "\u001b[90m [*] //*[@id='button-holder help-button-holder'] \u001b[0m\n",
      "\u001b[90m [*] //*[@name='button-holder help-button-holder'] \u001b[0m\n",
      "\u001b[90m [*] //*[@for='button-holder help-button-holder'] \u001b[0m\n",
      "\u001b[90m [*] //*[@class='button-holder help-button-holder'] \u001b[0m\n",
      "\u001b[90m [*] //*[text()='button-holder help-button-holder'] \u001b[0m\n",
      "[*] Trying Next Frame: button-holder help-button-holder\n",
      "\u001b[90m [*] //*[@id='button-holder help-button-holder'] \u001b[0m\n",
      "\u001b[90m [*] //*[@name='button-holder help-button-holder'] \u001b[0m\n",
      "\u001b[90m [*] //*[@for='button-holder help-button-holder'] \u001b[0m\n",
      "\u001b[90m [*] //*[@class='button-holder help-button-holder'] \u001b[0m\n",
      "\u001b[32m [+] Click: \u001b[0m button-holder help-button-holder\n",
      "\u001b[90m [*] //*[@id='recaptcha-demo-submit'] \u001b[0m\n",
      "\u001b[90m [*] //*[@name='recaptcha-demo-submit'] \u001b[0m\n",
      "\u001b[90m [*] //*[@for='recaptcha-demo-submit'] \u001b[0m\n",
      "\u001b[90m [*] //*[@class='recaptcha-demo-submit'] \u001b[0m\n",
      "\u001b[90m [*] //*[text()='recaptcha-demo-submit'] \u001b[0m\n",
      "[*] Trying Next Frame: recaptcha-demo-submit\n",
      "\u001b[90m [*] //*[@id='recaptcha-demo-submit'] \u001b[0m\n",
      "\u001b[90m [*] //*[@name='recaptcha-demo-submit'] \u001b[0m\n",
      "\u001b[90m [*] //*[@for='recaptcha-demo-submit'] \u001b[0m\n",
      "\u001b[90m [*] //*[@class='recaptcha-demo-submit'] \u001b[0m\n",
      "\u001b[90m [*] //*[text()='recaptcha-demo-submit'] \u001b[0m\n",
      "[*] Trying Next Frame: recaptcha-demo-submit\n",
      "\u001b[90m [*] //*[@id='recaptcha-demo-submit'] \u001b[0m\n",
      "\u001b[90m [*] //*[@name='recaptcha-demo-submit'] \u001b[0m\n",
      "\u001b[90m [*] //*[@for='recaptcha-demo-submit'] \u001b[0m\n",
      "\u001b[90m [*] //*[@class='recaptcha-demo-submit'] \u001b[0m\n",
      "\u001b[90m [*] //*[text()='recaptcha-demo-submit'] \u001b[0m\n",
      "[*] Trying Next Frame: recaptcha-demo-submit\n",
      "\u001b[90m [*] //*[@id='recaptcha-demo-submit'] \u001b[0m\n",
      "\u001b[90m [*] //*[@name='recaptcha-demo-submit'] \u001b[0m\n",
      "\u001b[90m [*] //*[@for='recaptcha-demo-submit'] \u001b[0m\n",
      "\u001b[90m [*] //*[@class='recaptcha-demo-submit'] \u001b[0m\n",
      "\u001b[90m [*] //*[text()='recaptcha-demo-submit'] \u001b[0m\n"
     ]
    }
   ],
   "source": [
    "try:\n",
    "    frame_select('recaptcha-anchor')\n",
    "    time.sleep(2)\n",
    "    frame_select('button-holder help-button-holder')\n",
    "    time.sleep(2)\n",
    "    frame_select('recaptcha-demo-submit')\n",
    "    time.sleep(2)\n",
    "except:\n",
    "    print('failed')"
   ]
  },
  {
   "cell_type": "code",
   "execution_count": 283,
   "id": "1416e2d0",
   "metadata": {},
   "outputs": [],
   "source": [
    "def check_element(selector,action='click'):\n",
    "        global ele\n",
    "        ele = False\n",
    "        for x in ['@id=','@name=','@for=','@class=','text()=']:\n",
    "            try:\n",
    "                print(f\"\\033[90m [*] //*[{x}'{selector}'] \\033[0m\")\n",
    "                if action == 'click': \n",
    "                    driver.find_element(By.XPATH,f\"//*[{x}'{selector}']\")\n",
    "                    print('\\033[32m [+] Click: \\033[0m', selector)\n",
    "                elif action == 'key':\n",
    "                    driver.find_element(By.XPATH,f\"//*[{x}'{selector}']\")\n",
    "                    print('\\033[32m [+] Return: \\033[0m', selector)\n",
    "                ele = True\n",
    "                break\n",
    "            except: continue \n",
    "            \n",
    "def find_elem(selector,action='click',file=''):\n",
    "        global element,src\n",
    "        element = False\n",
    "        for x in ['@id=','@name=','@for=','@class=','text()=']:\n",
    "            try:\n",
    "                print(f\"\\033[90m [*] //*[{x}'{selector}'] \\033[0m\")\n",
    "                if action == 'click': \n",
    "                    driver.find_element(By.XPATH,f\"//*[{x}'{selector}']\").click()\n",
    "                    print('\\033[32m [+] Click: \\033[0m', selector)\n",
    "                elif action == 'key':\n",
    "                    driver.find_element(By.XPATH,f\"//*[{x}'{selector}']\").send_keys(file,Keys.RETURN)\n",
    "                    print('\\033[32m [+] Return: \\033[0m', selector)\n",
    "                elif action == 'attrib':\n",
    "                    src = driver.find_element(By.XPATH,f\"//*[{x}'{selector}']\").get_attribute(file)\n",
    "                    print('\\033[32m [+] Get Attribute: \\033[0m', selector, file)\n",
    "                element = True\n",
    "                break\n",
    "            except: continue \n",
    "\n",
    "\n",
    "def frame_select(selector, action='click', file=''):\n",
    "\n",
    "    check_element(selector,action)\n",
    "\n",
    "    if not ele:\n",
    "        for frame in driver.find_elements(By.TAG_NAME,'iframe'):\n",
    "            driver.switch_to.default_content()\n",
    "            driver.switch_to.frame(frame)\n",
    "            print('[*] Trying Next Frame:', selector)\n",
    "            \n",
    "            check_element(selector,action)\n",
    "\n",
    "            driver.switch_to.default_content()\n",
    "            if ele: break\n",
    "    "
   ]
  },
  {
   "cell_type": "code",
   "execution_count": 284,
   "id": "4ddf9e00",
   "metadata": {},
   "outputs": [
    {
     "name": "stdout",
     "output_type": "stream",
     "text": [
      "\u001b[90m [*] //*[@id='recaptcha-anchor'] \u001b[0m\n",
      "\u001b[90m [*] //*[@name='recaptcha-anchor'] \u001b[0m\n",
      "\u001b[90m [*] //*[@for='recaptcha-anchor'] \u001b[0m\n",
      "\u001b[90m [*] //*[@class='recaptcha-anchor'] \u001b[0m\n",
      "\u001b[90m [*] //*[text()='recaptcha-anchor'] \u001b[0m\n",
      "[*] Trying Next Frame: recaptcha-anchor\n",
      "\u001b[90m [*] //*[@id='recaptcha-anchor'] \u001b[0m\n",
      "\u001b[32m [+] Click: \u001b[0m recaptcha-anchor\n",
      "True\n"
     ]
    }
   ],
   "source": [
    "frame_select('recaptcha-anchor')\n",
    "print(ele)"
   ]
  }
 ],
 "metadata": {
  "kernelspec": {
   "display_name": "Python 3 (ipykernel)",
   "language": "python",
   "name": "python3"
  },
  "language_info": {
   "codemirror_mode": {
    "name": "ipython",
    "version": 3
   },
   "file_extension": ".py",
   "mimetype": "text/x-python",
   "name": "python",
   "nbconvert_exporter": "python",
   "pygments_lexer": "ipython3",
   "version": "3.9.13"
  }
 },
 "nbformat": 4,
 "nbformat_minor": 5
}
